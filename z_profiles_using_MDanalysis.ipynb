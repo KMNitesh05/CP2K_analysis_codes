{
 "cells": [
  {
   "cell_type": "markdown",
   "id": "3412c39c",
   "metadata": {},
   "source": [
    "## z orientation density profile ## "
   ]
  },
  {
   "cell_type": "markdown",
   "id": "15ea582c",
   "metadata": {},
   "source": [
    "### written by Nitesh Kumar ## "
   ]
  },
  {
   "cell_type": "code",
   "execution_count": null,
   "id": "a3a0e8c7",
   "metadata": {},
   "outputs": [],
   "source": [
    "import MDAnalysis as mda\n",
    "from MDAnalysis import Universe\n",
    "from MDAnalysis.analysis import density\n",
    "import matplotlib.pyplot as plt \n",
    "# load the simulation trajectory\n",
    "u = mda.Universe(\"npt_water.gro\", \"npt_water.xtc\")\n"
   ]
  },
  {
   "cell_type": "code",
   "execution_count": null,
   "id": "d7795600",
   "metadata": {},
   "outputs": [],
   "source": [
    "water = u.select_atoms('resname SOL')\n",
    "ox = water.select_atoms('name OW')\n",
    "h1 = water.select_atoms('name HW1')\n",
    "h2 = water.select_atoms('name HW2')\n",
    "\n",
    "orientations = []\n",
    "for o, h1, h2 in zip(ox, h1, h2):\n",
    "    # calculate the vector between the oxygen and hydrogen atoms\n",
    "    vec = h1.position - o.position\n",
    "    # normalize the vector\n",
    "    vec /= np.linalg.norm(vec)\n",
    "    orientations.append(vec)"
   ]
  },
  {
   "cell_type": "code",
   "execution_count": null,
   "id": "bcd08cca",
   "metadata": {},
   "outputs": [],
   "source": [
    "print(orientations)"
   ]
  },
  {
   "cell_type": "code",
   "execution_count": null,
   "id": "9c14ca02",
   "metadata": {},
   "outputs": [],
   "source": [
    "import matplotlib.pyplot as plt\n",
    "import numpy as np \n",
    "# calculate the histogram bins\n",
    "bins = np.linspace(np.min(orientations),np.max(orientations))\n",
    "\n",
    "# plot the histogram\n",
    "plt.hist(orientations, bins=bins, density=True)\n",
    "plt.xlabel('Orientation')\n",
    "plt.ylabel('Probability')\n",
    "plt.show()"
   ]
  },
  {
   "cell_type": "code",
   "execution_count": null,
   "id": "53053da2",
   "metadata": {},
   "outputs": [],
   "source": [
    "## orientation z orientation profile ## "
   ]
  },
  {
   "cell_type": "code",
   "execution_count": null,
   "id": "3ff37c34",
   "metadata": {},
   "outputs": [],
   "source": [
    "z_coords = water.positions[:,2]\n",
    "bin_size = (z_coords.max() - z_coords.min()) / 100\n",
    "z_bins = np.arange(z_coords.min(), z_coords.max(), bin_size)\n",
    "print(len(z_bins))\n",
    "bin_means = []\n",
    "for i in range(len(z_bins) - 1):\n",
    "    bin_range = (z_coords > z_bins[i]) & (z_coords <= z_bins[i+1])\n",
    "    bin_mean = z_coords[bin_range].mean()\n",
    "    bin_means.append(bin_mean)"
   ]
  },
  {
   "cell_type": "code",
   "execution_count": null,
   "id": "b1e6115a",
   "metadata": {},
   "outputs": [],
   "source": [
    "water = u.select_atoms('resname SOL')\n",
    "ox = water.select_atoms('name OW')\n",
    "h1 = water.select_atoms('name HW1')\n",
    "h2 = water.select_atoms('name HW2')\n",
    "\n",
    "orientations = [[] for i in range(len(z_bins) + 1)]\n",
    "print(len(orientations))\n",
    "for o, h1, h2 in zip(ox, h1, h2):\n",
    "    # calculate the vector between the oxygen and hydrogen atoms\n",
    "    vec = h1.position - o.position\n",
    "    # normalize the vector\n",
    "    vec /= np.linalg.norm(vec)\n",
    "    # find the corresponding z-coordinate bin\n",
    "    z_coord = o.position[2]\n",
    "    bin_idx = np.digitize(z_coord, z_bins) - 1\n",
    "    \n",
    "    # add the orientation to the corresponding bin\n",
    "    orientations[bin_idx].append(vec[2])"
   ]
  },
  {
   "cell_type": "code",
   "execution_count": null,
   "id": "e57e428d",
   "metadata": {},
   "outputs": [],
   "source": [
    "avg_orientations = []\n",
    "\n",
    "for orientation_list in orientations:\n",
    "    # calculate the average orientation\n",
    "    avg_orientation = np.mean(orientation_list, axis=0)\n",
    "\n",
    "    #print(orientation_list)\n",
    "    avg_orientations.append(avg_orientation)\n",
    "\n",
    "#avg_orientations = np.array(avg_orientations)\n",
    "print(avg_orientations)\n",
    "# plot the results\n",
    "plt.plot(z_bins, avg_orientations[:-1])\n",
    "plt.xlabel('z-coordinate')\n",
    "plt.ylabel('Average orientation')\n",
    "plt.show()"
   ]
  },
  {
   "cell_type": "code",
   "execution_count": null,
   "id": "73cfe3b3",
   "metadata": {},
   "outputs": [],
   "source": []
  }
 ],
 "metadata": {
  "kernelspec": {
   "display_name": "Python 3 (ipykernel)",
   "language": "python",
   "name": "python3"
  },
  "language_info": {
   "codemirror_mode": {
    "name": "ipython",
    "version": 3
   },
   "file_extension": ".py",
   "mimetype": "text/x-python",
   "name": "python",
   "nbconvert_exporter": "python",
   "pygments_lexer": "ipython3",
   "version": "3.9.13"
  }
 },
 "nbformat": 4,
 "nbformat_minor": 5
}
